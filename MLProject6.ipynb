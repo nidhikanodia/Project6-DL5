{
 "cells": [
  {
   "cell_type": "code",
   "execution_count": 1,
   "metadata": {},
   "outputs": [],
   "source": [
    "#Classify the images from the CIFAR-10 dataset. The dataset consists of airplanes, dogs, cats, and other objects. \n",
    "#Preprocess the images, then train a convolutional neural network on all the samples.\n",
    "#The images need to be normalized and the labels need to be one-hot encoded. \n",
    "#Build a convolutional, max pooling, dropout, and fully connected layers. \n",
    "#See your neural network's predictions on the sample images.\n",
    "\n",
    "#Import the required libraries\n",
    "import numpy as np\n",
    "from urllib.request import urlretrieve\n",
    "from os.path import isfile, isdir\n",
    "from tqdm import tqdm\n",
    "import tarfile\n",
    "import pickle\n",
    "import tensorflow as tf\n",
    "import random\n",
    "import image_helper as helper\n",
    "import unit_test as tests\n",
    "\n",
    "%matplotlib inline"
   ]
  },
  {
   "cell_type": "code",
   "execution_count": 2,
   "metadata": {},
   "outputs": [
    {
     "name": "stdout",
     "output_type": "stream",
     "text": [
      "All files found!\n"
     ]
    }
   ],
   "source": [
    "#Load the dataset\n",
    "cifar10_dataset_folder_path = 'cifar-10-batches-py'\n",
    "\n",
    "class DLProgress(tqdm):\n",
    "    last_block = 0\n",
    "\n",
    "    def hook(self, block_num=1, block_size=1, total_size=None):\n",
    "        self.total = total_size\n",
    "        self.update((block_num - self.last_block) * block_size)\n",
    "        self.last_block = block_num\n",
    "\n",
    "if not isfile('cifar-10-python.tar.gz'):\n",
    "    with DLProgress(unit='B', unit_scale=True, miniters=1, desc='CIFAR-10 Dataset') as pbar:\n",
    "        urlretrieve(\n",
    "            'https://www.cs.toronto.edu/~kriz/cifar-10-python.tar.gz',\n",
    "            'cifar-10-python.tar.gz',\n",
    "            pbar.hook)\n",
    "\n",
    "if not isdir(cifar10_dataset_folder_path):\n",
    "    with tarfile.open('cifar-10-python.tar.gz') as tar:\n",
    "        tar.extractall()\n",
    "        tar.close()\n",
    "\n",
    "#Test if all the images are loaded\n",
    "tests.test_folder_path(cifar10_dataset_folder_path)"
   ]
  },
  {
   "cell_type": "code",
   "execution_count": 3,
   "metadata": {},
   "outputs": [
    {
     "name": "stdout",
     "output_type": "stream",
     "text": [
      "\n",
      "Stats of batch 1:\n",
      "Samples: 10000\n",
      "Label Counts: {0: 1005, 1: 974, 2: 1032, 3: 1016, 4: 999, 5: 937, 6: 1030, 7: 1001, 8: 1025, 9: 981}\n",
      "First 20 Labels: [6, 9, 9, 4, 1, 1, 2, 7, 8, 3, 4, 7, 7, 2, 9, 9, 9, 3, 2, 6]\n",
      "\n",
      "Example of Image 4:\n",
      "Image - Min Value: 0 Max Value: 254\n",
      "Image - Shape: (32, 32, 3)\n",
      "Label - Label Id: 1 Name: automobile\n"
     ]
    },
    {
     "data": {
      "image/png": "[encoded data removed]",
      "text/plain": [
       "<Figure size 432x288 with 1 Axes>"
      ]
     },
     "metadata": {
      "image/png": {
       "height": 250,
       "width": 253
      },
      "needs_background": "light"
     },
     "output_type": "display_data"
    }
   ],
   "source": [
    "#Explore the dataset\n",
    "\n",
    "%config InlineBackend.figure_format = 'retina'\n",
    "\n",
    "batch_id = 1\n",
    "sample_id = 4\n",
    "helper.display_stats(cifar10_dataset_folder_path, batch_id, sample_id)"
   ]
  },
  {
   "cell_type": "code",
   "execution_count": 4,
   "metadata": {},
   "outputs": [],
   "source": [
    "#Define normalize function to take image data x as inptu and return it as a normalized Numpy array\n",
    "\n",
    "def normalize(x):\n",
    "    return x / 255 # x - np.min(x) / (np.max(x) - np.min(x))"
   ]
  },
  {
   "cell_type": "code",
   "execution_count": 5,
   "metadata": {},
   "outputs": [],
   "source": [
    "#Define on_hot_encode function to take input, x, a list of labels. The function returns the list of labels as One-Hot encoded Numpy array\n",
    "\n",
    "def one_hot_encode(x):\n",
    "    z = np.zeros((len(x), 10))\n",
    "    z[list(np.indices((len(x),))) + [x]] = 1\n",
    "    return z"
   ]
  },
  {
   "cell_type": "code",
   "execution_count": 6,
   "metadata": {},
   "outputs": [
    {
     "name": "stderr",
     "output_type": "stream",
     "text": [
      "C:\\Users\\nkanodia\\AppData\\Local\\Continuum\\anaconda3\\lib\\site-packages\\ipykernel_launcher.py:5: FutureWarning: Using a non-tuple sequence for multidimensional indexing is deprecated; use `arr[tuple(seq)]` instead of `arr[seq]`. In the future this will be interpreted as an array index, `arr[np.array(seq)]`, which will result either in an error or a different result.\n",
      "  \"\"\"\n"
     ]
    }
   ],
   "source": [
    "# Preprocess Training, Validation, and Testing Data\n",
    "\n",
    "helper.preprocess_and_save_data(cifar10_dataset_folder_path, normalize, one_hot_encode)"
   ]
  },
  {
   "cell_type": "code",
   "execution_count": 7,
   "metadata": {},
   "outputs": [],
   "source": [
    "#Load the preprocessed validation data\n",
    "\n",
    "valid_features, valid_labels = pickle.load(open('preprocess_validation.p', mode='rb'))"
   ]
  },
  {
   "cell_type": "code",
   "execution_count": 8,
   "metadata": {},
   "outputs": [
    {
     "name": "stdout",
     "output_type": "stream",
     "text": [
      "Image Input Tests Passed.\n",
      "Label Input Tests Passed.\n",
      "Keep Prob Tests Passed.\n"
     ]
    }
   ],
   "source": [
    "#Implement functions for the neural network to read the image data, one-hot encoded labels, and dropout keep probability.\n",
    "\n",
    "def neural_net_image_input(image_shape):\n",
    "    return tf.placeholder(tf.float32, shape=(None,)+image_shape, name='x')\n",
    "\n",
    "\n",
    "def neural_net_label_input(n_classes):\n",
    "    return tf.placeholder(tf.float32, shape=(None, n_classes), name='y')\n",
    "\n",
    "\n",
    "def neural_net_keep_prob_input():\n",
    "    return tf.placeholder(tf.float32, name='keep_prob')\n",
    "\n",
    "tf.reset_default_graph()\n",
    "tests.test_nn_image_inputs(neural_net_image_input)\n",
    "tests.test_nn_label_inputs(neural_net_label_input)\n",
    "tests.test_nn_keep_prob_inputs(neural_net_keep_prob_input)"
   ]
  },
  {
   "cell_type": "code",
   "execution_count": 9,
   "metadata": {},
   "outputs": [
    {
     "name": "stdout",
     "output_type": "stream",
     "text": [
      "WARNING:tensorflow:From C:\\Users\\nkanodia\\AppData\\Local\\Continuum\\anaconda3\\lib\\site-packages\\tensorflow\\python\\framework\\op_def_library.py:263: colocate_with (from tensorflow.python.framework.ops) is deprecated and will be removed in a future version.\n",
      "Instructions for updating:\n",
      "Colocations handled automatically by placer.\n",
      "Tests Passed\n"
     ]
    }
   ],
   "source": [
    "#Define the function to apply Convulational and then Max-Pooling layear\n",
    "def conv2d_maxpool(x_tensor, conv_num_outputs, conv_ksize, conv_strides, pool_ksize, pool_strides):\n",
    "    # Weight and bias\n",
    "    weight = tf.Variable(tf.truncated_normal([*conv_ksize, x_tensor.shape.as_list()[3], conv_num_outputs],stddev=5e-2))\n",
    "    bias = tf.Variable(tf.zeros(conv_num_outputs))\n",
    "    \n",
    "    # Apply Convolution\n",
    "    conv_layer = tf.nn.conv2d(x_tensor,\n",
    "                              weight,\n",
    "                              strides=[1, *conv_strides, 1],\n",
    "                              padding='SAME')\n",
    "    # Add bias\n",
    "    conv_layer = tf.nn.bias_add(conv_layer, bias)\n",
    "    # Apply activation function\n",
    "    conv_layer = tf.nn.relu(conv_layer)\n",
    "    \n",
    "    # Apply Max Pooling\n",
    "    conv_layer = tf.nn.max_pool(conv_layer,\n",
    "                                ksize=[1, *pool_ksize, 1],\n",
    "                                strides=[1, *pool_strides, 1],\n",
    "                                padding='SAME')\n",
    "    \n",
    "    return conv_layer\n",
    "\n",
    "tests.test_con_pool(conv2d_maxpool)"
   ]
  },
  {
   "cell_type": "code",
   "execution_count": 10,
   "metadata": {},
   "outputs": [
    {
     "name": "stdout",
     "output_type": "stream",
     "text": [
      "\n",
      "WARNING: The TensorFlow contrib module will not be included in TensorFlow 2.0.\n",
      "For more information, please see:\n",
      "  * https://github.com/tensorflow/community/blob/master/rfcs/20180907-contrib-sunset.md\n",
      "  * https://github.com/tensorflow/addons\n",
      "If you depend on functionality not listed there, please file an issue.\n",
      "\n",
      "WARNING:tensorflow:From C:\\Users\\nkanodia\\AppData\\Local\\Continuum\\anaconda3\\lib\\site-packages\\tensorflow\\contrib\\layers\\python\\layers\\layers.py:1624: flatten (from tensorflow.python.layers.core) is deprecated and will be removed in a future version.\n",
      "Instructions for updating:\n",
      "Use keras.layers.flatten instead.\n",
      "Tests Passed\n"
     ]
    }
   ],
   "source": [
    "#Implement the flatten function to change the dimension of x_tensor from a 4-D tensor to a 2-D tensor\n",
    "def flatten(x_tensor):\n",
    "   return tf.contrib.layers.flatten(x_tensor)\n",
    "\n",
    "tests.test_flatten(flatten)"
   ]
  },
  {
   "cell_type": "code",
   "execution_count": 11,
   "metadata": {},
   "outputs": [
    {
     "name": "stdout",
     "output_type": "stream",
     "text": [
      "WARNING:tensorflow:From <ipython-input-11-ea56d4f48d5a>:3: dense (from tensorflow.python.layers.core) is deprecated and will be removed in a future version.\n",
      "Instructions for updating:\n",
      "Use keras.layers.dense instead.\n",
      "Tests Passed\n"
     ]
    }
   ],
   "source": [
    "#Implement the fully_conn function to apply a fully connected layer to x_tensor with the shape (Batch Size, num_outputs)\n",
    "def fully_conn(x_tensor, num_outputs):\n",
    "   return tf.layers.dense(x_tensor, num_outputs, activation=tf.nn.relu)\n",
    "\n",
    "tests.test_fully_conn(fully_conn)"
   ]
  },
  {
   "cell_type": "code",
   "execution_count": 12,
   "metadata": {},
   "outputs": [
    {
     "name": "stdout",
     "output_type": "stream",
     "text": [
      "Tests Passed\n"
     ]
    }
   ],
   "source": [
    "#Implement the output function to apply a fully connected layer to x_tensor with the shape (Batch Size, num_outputs)\n",
    "def output(x_tensor, num_outputs):\n",
    "    return tf.layers.dense(x_tensor, num_outputs)\n",
    "\n",
    "tests.test_output(output)"
   ]
  },
  {
   "cell_type": "code",
   "execution_count": 13,
   "metadata": {},
   "outputs": [
    {
     "name": "stdout",
     "output_type": "stream",
     "text": [
      "WARNING:tensorflow:From <ipython-input-13-2db07273a011>:13: dropout (from tensorflow.python.layers.core) is deprecated and will be removed in a future version.\n",
      "Instructions for updating:\n",
      "Use keras.layers.dropout instead.\n",
      "WARNING:tensorflow:From <ipython-input-13-2db07273a011>:48: softmax_cross_entropy_with_logits (from tensorflow.python.ops.nn_ops) is deprecated and will be removed in a future version.\n",
      "Instructions for updating:\n",
      "\n",
      "Future major versions of TensorFlow will allow gradients to flow\n",
      "into the labels input on backprop by default.\n",
      "\n",
      "See `tf.nn.softmax_cross_entropy_with_logits_v2`.\n",
      "\n",
      "Neural Network Built!\n"
     ]
    }
   ],
   "source": [
    "#Implement the function conv_net to create a convolutional neural network model. The function takes in a batch of images, x, and outputs logits. Use the layers created above to create this model:\n",
    "\n",
    "#Apply 1, 2, or 3 Convolution and Max Pool layers\n",
    "#Apply a Flatten Layer\n",
    "#Apply 1, 2, or 3 Fully Connected Layers\n",
    "#Apply an Output Layer\n",
    "#Return the output\n",
    "\n",
    "def conv_net(x, keep_prob):\n",
    "   \n",
    "    #Apply Convolution and Max Pool layers\n",
    "    x = conv2d_maxpool(x, 64, (5, 5), (1, 1), (3, 3), (2, 2)) # 14x14x64\n",
    "    x = tf.layers.dropout(x, rate=keep_prob)\n",
    "    x = conv2d_maxpool(x, 64, (5, 5), (1, 1), (3, 3), (2, 2)) # 7x7x64\n",
    "    x = tf.layers.dropout(x, rate=keep_prob)\n",
    "    \n",
    "    #Apply a Flatten Layer\n",
    "    x = flatten(x)\n",
    "    \n",
    "    #Apply Fully Connected Layers\n",
    "    x = fully_conn(x, 384)\n",
    "    x = fully_conn(x, 192)\n",
    "    \n",
    "    \n",
    "    #Apply an Output Layer\n",
    "    # Set this to the number of classes\n",
    "    x = output(x, 10)\n",
    "    \n",
    "    #Return output\n",
    "    return x\n",
    "\n",
    "#Build the Neural Network\n",
    "#Remove previous weights, bias, inputs, etc..\n",
    "tf.reset_default_graph()\n",
    "\n",
    "#Inputs\n",
    "x = neural_net_image_input((32, 32, 3))\n",
    "y = neural_net_label_input(10)\n",
    "keep_prob = neural_net_keep_prob_input()\n",
    "\n",
    "#Model\n",
    "logits = conv_net(x, keep_prob)\n",
    "\n",
    "#Name logits Tensor, so that is can be loaded from disk after training\n",
    "logits = tf.identity(logits, name='logits')\n",
    "\n",
    "#Loss and Optimizer\n",
    "cost = tf.reduce_mean(tf.nn.softmax_cross_entropy_with_logits(logits=logits, labels=y))\n",
    "optimizer = tf.train.AdamOptimizer().minimize(cost)\n",
    "\n",
    "#Accuracy\n",
    "correct_pred = tf.equal(tf.argmax(logits, 1), tf.argmax(y, 1))\n",
    "accuracy = tf.reduce_mean(tf.cast(correct_pred, tf.float32), name='accuracy')\n",
    "\n",
    "tests.test_conv_net(conv_net)\n"
   ]
  },
  {
   "cell_type": "code",
   "execution_count": 14,
   "metadata": {},
   "outputs": [
    {
     "name": "stdout",
     "output_type": "stream",
     "text": [
      "Tests Passed\n"
     ]
    }
   ],
   "source": [
    "#Implement the function train_neural_network to do a single optimization.\n",
    "#The optimization should use optimizer to optimize in session with a feed_dict of the following:\n",
    "#x for image input\n",
    "#y for labels\n",
    "#keep_prob for keep probability for dropout\n",
    "\n",
    "def train_neural_network(session, optimizer, keep_probability, feature_batch, label_batch):\n",
    "    session.run(optimizer, feed_dict={\n",
    "                x: feature_batch,\n",
    "                y: label_batch,\n",
    "                keep_prob: keep_probability})\n",
    "\n",
    "tests.test_train_nn(train_neural_network)"
   ]
  },
  {
   "cell_type": "code",
   "execution_count": 15,
   "metadata": {},
   "outputs": [],
   "source": [
    "#Implement the function print_stats to print loss and validation accuracy. \n",
    "#Use the global variables valid_features and valid_labels to calculate validation accuracy. \n",
    "#Use a keep probability of 1.0 to calculate the loss and validation accuracy\n",
    "\n",
    "def print_stats(session, feature_batch, label_batch, cost, accuracy):\n",
    "    loss = sess.run(cost, feed_dict={\n",
    "        x: feature_batch,\n",
    "        y: label_batch,\n",
    "        keep_prob: 1.})\n",
    "    valid_acc = sess.run(accuracy, feed_dict={\n",
    "        x: valid_features,\n",
    "        y: valid_labels,\n",
    "        keep_prob: 1.})\n",
    "\n",
    "    print('Loss: {:>10.4f} Validation Accuracy: {:.6f}'.format(\n",
    "        loss,\n",
    "        valid_acc))"
   ]
  },
  {
   "cell_type": "code",
   "execution_count": 16,
   "metadata": {},
   "outputs": [],
   "source": [
    "#Tune Parameters\n",
    "#Running with only 25 epochs and batch size 100 as my machine shuts down automatically on increasing the number\n",
    "epochs = 25\n",
    "batch_size = 100\n",
    "keep_probability = 0.75"
   ]
  },
  {
   "cell_type": "code",
   "execution_count": 17,
   "metadata": {},
   "outputs": [
    {
     "name": "stdout",
     "output_type": "stream",
     "text": [
      "Checking the Training on a Single Batch...\n",
      "Epoch  1, CIFAR-10 Batch 1:  Loss:     1.8263 Validation Accuracy: 0.411600\n",
      "Epoch  2, CIFAR-10 Batch 1:  Loss:     1.5968 Validation Accuracy: 0.484400\n",
      "Epoch  3, CIFAR-10 Batch 1:  Loss:     1.4115 Validation Accuracy: 0.526200\n",
      "Epoch  4, CIFAR-10 Batch 1:  Loss:     1.2157 Validation Accuracy: 0.553400\n",
      "Epoch  5, CIFAR-10 Batch 1:  Loss:     0.9964 Validation Accuracy: 0.571200\n",
      "Epoch  6, CIFAR-10 Batch 1:  Loss:     0.8564 Validation Accuracy: 0.563800\n",
      "Epoch  7, CIFAR-10 Batch 1:  Loss:     0.8247 Validation Accuracy: 0.564000\n",
      "Epoch  8, CIFAR-10 Batch 1:  Loss:     0.7219 Validation Accuracy: 0.575800\n",
      "Epoch  9, CIFAR-10 Batch 1:  Loss:     0.6893 Validation Accuracy: 0.573400\n",
      "Epoch 10, CIFAR-10 Batch 1:  Loss:     0.6817 Validation Accuracy: 0.539600\n",
      "Epoch 11, CIFAR-10 Batch 1:  Loss:     0.4618 Validation Accuracy: 0.584000\n",
      "Epoch 12, CIFAR-10 Batch 1:  Loss:     0.3442 Validation Accuracy: 0.574200\n",
      "Epoch 13, CIFAR-10 Batch 1:  Loss:     0.2119 Validation Accuracy: 0.576400\n",
      "Epoch 14, CIFAR-10 Batch 1:  Loss:     0.1808 Validation Accuracy: 0.574000\n",
      "Epoch 15, CIFAR-10 Batch 1:  Loss:     0.1838 Validation Accuracy: 0.566400\n",
      "Epoch 16, CIFAR-10 Batch 1:  Loss:     0.1988 Validation Accuracy: 0.567200\n",
      "Epoch 17, CIFAR-10 Batch 1:  Loss:     0.1044 Validation Accuracy: 0.579000\n",
      "Epoch 18, CIFAR-10 Batch 1:  Loss:     0.1058 Validation Accuracy: 0.567400\n",
      "Epoch 19, CIFAR-10 Batch 1:  Loss:     0.0870 Validation Accuracy: 0.579800\n",
      "Epoch 20, CIFAR-10 Batch 1:  Loss:     0.0426 Validation Accuracy: 0.592000\n",
      "Epoch 21, CIFAR-10 Batch 1:  Loss:     0.0447 Validation Accuracy: 0.583200\n",
      "Epoch 22, CIFAR-10 Batch 1:  Loss:     0.0550 Validation Accuracy: 0.580400\n",
      "Epoch 23, CIFAR-10 Batch 1:  Loss:     0.0434 Validation Accuracy: 0.572800\n",
      "Epoch 24, CIFAR-10 Batch 1:  Loss:     0.0284 Validation Accuracy: 0.563600\n",
      "Epoch 25, CIFAR-10 Batch 1:  Loss:     0.0174 Validation Accuracy: 0.561800\n"
     ]
    }
   ],
   "source": [
    "#Train on a Single CIFAR-10 Batch\n",
    "print('Checking the Training on a Single Batch...')\n",
    "with tf.Session() as sess:\n",
    "    # Initializing the variables\n",
    "    sess.run(tf.global_variables_initializer())\n",
    "    \n",
    "    # Training cycle\n",
    "    for epoch in range(epochs):\n",
    "        batch_i = 1\n",
    "        for batch_features, batch_labels in helper.load_preprocess_training_batch(batch_i, batch_size):\n",
    "            train_neural_network(sess, optimizer, keep_probability, batch_features, batch_labels)\n",
    "        print('Epoch {:>2}, CIFAR-10 Batch {}:  '.format(epoch + 1, batch_i), end='')\n",
    "        print_stats(sess, batch_features, batch_labels, cost, accuracy)"
   ]
  },
  {
   "cell_type": "code",
   "execution_count": 18,
   "metadata": {},
   "outputs": [
    {
     "name": "stdout",
     "output_type": "stream",
     "text": [
      "Training...\n",
      "Epoch  1, CIFAR-10 Batch 1:  Loss:     1.8064 Validation Accuracy: 0.426400\n",
      "Epoch  1, CIFAR-10 Batch 2:  Loss:     1.3320 Validation Accuracy: 0.506200\n",
      "Epoch  1, CIFAR-10 Batch 3:  Loss:     1.0284 Validation Accuracy: 0.562000\n",
      "Epoch  1, CIFAR-10 Batch 4:  Loss:     1.1761 Validation Accuracy: 0.580000\n",
      "Epoch  1, CIFAR-10 Batch 5:  Loss:     1.0178 Validation Accuracy: 0.586000\n",
      "Epoch  2, CIFAR-10 Batch 1:  Loss:     1.3724 Validation Accuracy: 0.576600\n",
      "Epoch  2, CIFAR-10 Batch 2:  Loss:     0.8796 Validation Accuracy: 0.612800\n",
      "Epoch  2, CIFAR-10 Batch 3:  Loss:     0.7650 Validation Accuracy: 0.644200\n",
      "Epoch  2, CIFAR-10 Batch 4:  Loss:     0.9538 Validation Accuracy: 0.637000\n",
      "Epoch  2, CIFAR-10 Batch 5:  Loss:     0.7959 Validation Accuracy: 0.654200\n",
      "Epoch  3, CIFAR-10 Batch 1:  Loss:     1.0519 Validation Accuracy: 0.647000\n",
      "Epoch  3, CIFAR-10 Batch 2:  Loss:     0.7222 Validation Accuracy: 0.644400\n",
      "Epoch  3, CIFAR-10 Batch 3:  Loss:     0.6446 Validation Accuracy: 0.676200\n",
      "Epoch  3, CIFAR-10 Batch 4:  Loss:     0.8056 Validation Accuracy: 0.672000\n",
      "Epoch  3, CIFAR-10 Batch 5:  Loss:     0.6401 Validation Accuracy: 0.663800\n",
      "Epoch  4, CIFAR-10 Batch 1:  Loss:     0.8895 Validation Accuracy: 0.666800\n",
      "Epoch  4, CIFAR-10 Batch 2:  Loss:     0.6426 Validation Accuracy: 0.660200\n",
      "Epoch  4, CIFAR-10 Batch 3:  Loss:     0.5413 Validation Accuracy: 0.687000\n",
      "Epoch  4, CIFAR-10 Batch 4:  Loss:     0.6029 Validation Accuracy: 0.683800\n",
      "Epoch  4, CIFAR-10 Batch 5:  Loss:     0.5643 Validation Accuracy: 0.683600\n",
      "Epoch  5, CIFAR-10 Batch 1:  Loss:     0.7288 Validation Accuracy: 0.685800\n",
      "Epoch  5, CIFAR-10 Batch 2:  Loss:     0.6460 Validation Accuracy: 0.683600\n",
      "Epoch  5, CIFAR-10 Batch 3:  Loss:     0.4816 Validation Accuracy: 0.700000\n",
      "Epoch  5, CIFAR-10 Batch 4:  Loss:     0.4608 Validation Accuracy: 0.688200\n",
      "Epoch  5, CIFAR-10 Batch 5:  Loss:     0.4701 Validation Accuracy: 0.693800\n",
      "Epoch  6, CIFAR-10 Batch 1:  Loss:     0.6108 Validation Accuracy: 0.685600\n",
      "Epoch  6, CIFAR-10 Batch 2:  Loss:     0.5362 Validation Accuracy: 0.705600\n",
      "Epoch  6, CIFAR-10 Batch 3:  Loss:     0.4252 Validation Accuracy: 0.689200\n",
      "Epoch  6, CIFAR-10 Batch 4:  Loss:     0.4752 Validation Accuracy: 0.687600\n",
      "Epoch  6, CIFAR-10 Batch 5:  Loss:     0.3634 Validation Accuracy: 0.706200\n",
      "Epoch  7, CIFAR-10 Batch 1:  Loss:     0.5570 Validation Accuracy: 0.677800\n",
      "Epoch  7, CIFAR-10 Batch 2:  Loss:     0.4178 Validation Accuracy: 0.702600\n",
      "Epoch  7, CIFAR-10 Batch 3:  Loss:     0.3647 Validation Accuracy: 0.688200\n",
      "Epoch  7, CIFAR-10 Batch 4:  Loss:     0.3529 Validation Accuracy: 0.697400\n",
      "Epoch  7, CIFAR-10 Batch 5:  Loss:     0.3151 Validation Accuracy: 0.694000\n",
      "Epoch  8, CIFAR-10 Batch 1:  Loss:     0.4201 Validation Accuracy: 0.680000\n",
      "Epoch  8, CIFAR-10 Batch 2:  Loss:     0.3789 Validation Accuracy: 0.690200\n",
      "Epoch  8, CIFAR-10 Batch 3:  Loss:     0.3407 Validation Accuracy: 0.697800\n",
      "Epoch  8, CIFAR-10 Batch 4:  Loss:     0.4090 Validation Accuracy: 0.680400\n",
      "Epoch  8, CIFAR-10 Batch 5:  Loss:     0.2648 Validation Accuracy: 0.674200\n",
      "Epoch  9, CIFAR-10 Batch 1:  Loss:     0.2843 Validation Accuracy: 0.698200\n",
      "Epoch  9, CIFAR-10 Batch 2:  Loss:     0.3332 Validation Accuracy: 0.700800\n",
      "Epoch  9, CIFAR-10 Batch 3:  Loss:     0.2919 Validation Accuracy: 0.709800\n",
      "Epoch  9, CIFAR-10 Batch 4:  Loss:     0.2493 Validation Accuracy: 0.690400\n",
      "Epoch  9, CIFAR-10 Batch 5:  Loss:     0.2088 Validation Accuracy: 0.678000\n",
      "Epoch 10, CIFAR-10 Batch 1:  Loss:     0.3506 Validation Accuracy: 0.676200\n",
      "Epoch 10, CIFAR-10 Batch 2:  Loss:     0.2547 Validation Accuracy: 0.683200\n",
      "Epoch 10, CIFAR-10 Batch 3:  Loss:     0.2545 Validation Accuracy: 0.698000\n",
      "Epoch 10, CIFAR-10 Batch 4:  Loss:     0.2290 Validation Accuracy: 0.696800\n",
      "Epoch 10, CIFAR-10 Batch 5:  Loss:     0.1941 Validation Accuracy: 0.705800\n",
      "Epoch 11, CIFAR-10 Batch 1:  Loss:     0.1848 Validation Accuracy: 0.687200\n",
      "Epoch 11, CIFAR-10 Batch 2:  Loss:     0.1893 Validation Accuracy: 0.690000\n",
      "Epoch 11, CIFAR-10 Batch 3:  Loss:     0.1939 Validation Accuracy: 0.684200\n",
      "Epoch 11, CIFAR-10 Batch 4:  Loss:     0.3266 Validation Accuracy: 0.655600\n",
      "Epoch 11, CIFAR-10 Batch 5:  Loss:     0.1045 Validation Accuracy: 0.690800\n",
      "Epoch 12, CIFAR-10 Batch 1:  Loss:     0.1233 Validation Accuracy: 0.694000\n",
      "Epoch 12, CIFAR-10 Batch 2:  Loss:     0.1906 Validation Accuracy: 0.699000\n",
      "Epoch 12, CIFAR-10 Batch 3:  Loss:     0.1538 Validation Accuracy: 0.706600\n",
      "Epoch 12, CIFAR-10 Batch 4:  Loss:     0.1578 Validation Accuracy: 0.673200\n",
      "Epoch 12, CIFAR-10 Batch 5:  Loss:     0.1602 Validation Accuracy: 0.677400\n",
      "Epoch 13, CIFAR-10 Batch 1:  Loss:     0.1295 Validation Accuracy: 0.695200\n",
      "Epoch 13, CIFAR-10 Batch 2:  Loss:     0.1288 Validation Accuracy: 0.684800\n",
      "Epoch 13, CIFAR-10 Batch 3:  Loss:     0.0949 Validation Accuracy: 0.694000\n",
      "Epoch 13, CIFAR-10 Batch 4:  Loss:     0.1360 Validation Accuracy: 0.658800\n",
      "Epoch 13, CIFAR-10 Batch 5:  Loss:     0.0759 Validation Accuracy: 0.694400\n",
      "Epoch 14, CIFAR-10 Batch 1:  Loss:     0.0786 Validation Accuracy: 0.708400\n",
      "Epoch 14, CIFAR-10 Batch 2:  Loss:     0.1987 Validation Accuracy: 0.683200\n",
      "Epoch 14, CIFAR-10 Batch 3:  Loss:     0.1054 Validation Accuracy: 0.697200\n",
      "Epoch 14, CIFAR-10 Batch 4:  Loss:     0.1361 Validation Accuracy: 0.662000\n",
      "Epoch 14, CIFAR-10 Batch 5:  Loss:     0.1224 Validation Accuracy: 0.696600\n",
      "Epoch 15, CIFAR-10 Batch 1:  Loss:     0.0829 Validation Accuracy: 0.692600\n",
      "Epoch 15, CIFAR-10 Batch 2:  Loss:     0.0826 Validation Accuracy: 0.695400\n",
      "Epoch 15, CIFAR-10 Batch 3:  Loss:     0.1097 Validation Accuracy: 0.681200\n",
      "Epoch 15, CIFAR-10 Batch 4:  Loss:     0.1555 Validation Accuracy: 0.667200\n",
      "Epoch 15, CIFAR-10 Batch 5:  Loss:     0.0450 Validation Accuracy: 0.688400\n",
      "Epoch 16, CIFAR-10 Batch 1:  Loss:     0.0842 Validation Accuracy: 0.699600\n",
      "Epoch 16, CIFAR-10 Batch 2:  Loss:     0.0431 Validation Accuracy: 0.694200\n",
      "Epoch 16, CIFAR-10 Batch 3:  Loss:     0.0381 Validation Accuracy: 0.695200\n",
      "Epoch 16, CIFAR-10 Batch 4:  Loss:     0.0570 Validation Accuracy: 0.669200\n",
      "Epoch 16, CIFAR-10 Batch 5:  Loss:     0.0529 Validation Accuracy: 0.689000\n",
      "Epoch 17, CIFAR-10 Batch 1:  Loss:     0.1306 Validation Accuracy: 0.690800\n",
      "Epoch 17, CIFAR-10 Batch 2:  Loss:     0.0718 Validation Accuracy: 0.692000\n",
      "Epoch 17, CIFAR-10 Batch 3:  Loss:     0.0521 Validation Accuracy: 0.702600\n",
      "Epoch 17, CIFAR-10 Batch 4:  Loss:     0.0315 Validation Accuracy: 0.675800\n",
      "Epoch 17, CIFAR-10 Batch 5:  Loss:     0.0189 Validation Accuracy: 0.691200\n",
      "Epoch 18, CIFAR-10 Batch 1:  Loss:     0.1255 Validation Accuracy: 0.683600\n",
      "Epoch 18, CIFAR-10 Batch 2:  Loss:     0.0705 Validation Accuracy: 0.690000\n",
      "Epoch 18, CIFAR-10 Batch 3:  Loss:     0.0415 Validation Accuracy: 0.691800\n",
      "Epoch 18, CIFAR-10 Batch 4:  Loss:     0.0752 Validation Accuracy: 0.687000\n",
      "Epoch 18, CIFAR-10 Batch 5:  Loss:     0.0160 Validation Accuracy: 0.696800\n",
      "Epoch 19, CIFAR-10 Batch 1:  Loss:     0.0361 Validation Accuracy: 0.693800\n",
      "Epoch 19, CIFAR-10 Batch 2:  Loss:     0.1153 Validation Accuracy: 0.686000\n",
      "Epoch 19, CIFAR-10 Batch 3:  Loss:     0.0197 Validation Accuracy: 0.703000\n",
      "Epoch 19, CIFAR-10 Batch 4:  Loss:     0.0636 Validation Accuracy: 0.689400\n",
      "Epoch 19, CIFAR-10 Batch 5:  Loss:     0.0213 Validation Accuracy: 0.702400\n",
      "Epoch 20, CIFAR-10 Batch 1:  Loss:     0.0909 Validation Accuracy: 0.687000\n",
      "Epoch 20, CIFAR-10 Batch 2:  Loss:     0.0722 Validation Accuracy: 0.688800\n",
      "Epoch 20, CIFAR-10 Batch 3:  Loss:     0.0290 Validation Accuracy: 0.688600\n",
      "Epoch 20, CIFAR-10 Batch 4:  Loss:     0.0384 Validation Accuracy: 0.703000\n",
      "Epoch 20, CIFAR-10 Batch 5:  Loss:     0.0094 Validation Accuracy: 0.699600\n",
      "Epoch 21, CIFAR-10 Batch 1:  Loss:     0.0218 Validation Accuracy: 0.693000\n",
      "Epoch 21, CIFAR-10 Batch 2:  Loss:     0.0399 Validation Accuracy: 0.685400\n",
      "Epoch 21, CIFAR-10 Batch 3:  Loss:     0.0121 Validation Accuracy: 0.699400\n",
      "Epoch 21, CIFAR-10 Batch 4:  Loss:     0.0465 Validation Accuracy: 0.695400\n",
      "Epoch 21, CIFAR-10 Batch 5:  Loss:     0.0116 Validation Accuracy: 0.693600\n",
      "Epoch 22, CIFAR-10 Batch 1:  Loss:     0.0303 Validation Accuracy: 0.676200\n",
      "Epoch 22, CIFAR-10 Batch 2:  Loss:     0.0332 Validation Accuracy: 0.696000\n"
     ]
    },
    {
     "name": "stdout",
     "output_type": "stream",
     "text": [
      "Epoch 22, CIFAR-10 Batch 3:  Loss:     0.0224 Validation Accuracy: 0.687400\n",
      "Epoch 22, CIFAR-10 Batch 4:  Loss:     0.0355 Validation Accuracy: 0.685000\n",
      "Epoch 22, CIFAR-10 Batch 5:  Loss:     0.0208 Validation Accuracy: 0.694000\n",
      "Epoch 23, CIFAR-10 Batch 1:  Loss:     0.0391 Validation Accuracy: 0.679000\n",
      "Epoch 23, CIFAR-10 Batch 2:  Loss:     0.0602 Validation Accuracy: 0.678000\n",
      "Epoch 23, CIFAR-10 Batch 3:  Loss:     0.0328 Validation Accuracy: 0.708000\n",
      "Epoch 23, CIFAR-10 Batch 4:  Loss:     0.0269 Validation Accuracy: 0.694200\n",
      "Epoch 23, CIFAR-10 Batch 5:  Loss:     0.0244 Validation Accuracy: 0.703600\n",
      "Epoch 24, CIFAR-10 Batch 1:  Loss:     0.0291 Validation Accuracy: 0.671800\n",
      "Epoch 24, CIFAR-10 Batch 2:  Loss:     0.0150 Validation Accuracy: 0.684600\n",
      "Epoch 24, CIFAR-10 Batch 3:  Loss:     0.0254 Validation Accuracy: 0.700800\n",
      "Epoch 24, CIFAR-10 Batch 4:  Loss:     0.0150 Validation Accuracy: 0.702600\n",
      "Epoch 24, CIFAR-10 Batch 5:  Loss:     0.0083 Validation Accuracy: 0.713200\n",
      "Epoch 25, CIFAR-10 Batch 1:  Loss:     0.0208 Validation Accuracy: 0.706800\n",
      "Epoch 25, CIFAR-10 Batch 2:  Loss:     0.0391 Validation Accuracy: 0.679400\n",
      "Epoch 25, CIFAR-10 Batch 3:  Loss:     0.0152 Validation Accuracy: 0.693400\n",
      "Epoch 25, CIFAR-10 Batch 4:  Loss:     0.0456 Validation Accuracy: 0.688400\n",
      "Epoch 25, CIFAR-10 Batch 5:  Loss:     0.0709 Validation Accuracy: 0.707800\n"
     ]
    }
   ],
   "source": [
    "#Train with all the batches\n",
    "save_model_path = './image_classification'\n",
    "\n",
    "print('Training...')\n",
    "with tf.Session() as sess:\n",
    "    #Initializing the variables\n",
    "    sess.run(tf.global_variables_initializer())\n",
    "    \n",
    "    #Training cycle\n",
    "    for epoch in range(epochs):\n",
    "        #Loop over all batches\n",
    "        n_batches = 5\n",
    "        for batch_i in range(1, n_batches + 1):\n",
    "            for batch_features, batch_labels in helper.load_preprocess_training_batch(batch_i, batch_size):\n",
    "                train_neural_network(sess, optimizer, keep_probability, batch_features, batch_labels)\n",
    "            print('Epoch {:>2}, CIFAR-10 Batch {}:  '.format(epoch + 1, batch_i), end='')\n",
    "            print_stats(sess, batch_features, batch_labels, cost, accuracy)\n",
    "            \n",
    "    #Save Model\n",
    "    saver = tf.train.Saver()\n",
    "    save_path = saver.save(sess, save_model_path)"
   ]
  },
  {
   "cell_type": "code",
   "execution_count": 20,
   "metadata": {},
   "outputs": [
    {
     "name": "stdout",
     "output_type": "stream",
     "text": [
      "WARNING:tensorflow:From C:\\Users\\nkanodia\\AppData\\Local\\Continuum\\anaconda3\\lib\\site-packages\\tensorflow\\python\\training\\saver.py:1266: checkpoint_exists (from tensorflow.python.training.checkpoint_management) is deprecated and will be removed in a future version.\n",
      "Instructions for updating:\n",
      "Use standard file APIs to check for files with this prefix.\n",
      "INFO:tensorflow:Restoring parameters from ./image_classification\n",
      "Testing Accuracy: 0.6910000002384186\n",
      "\n"
     ]
    },
    {
     "data": {
      "image/png": "[encoded data removed]",
      "text/plain": [
       "<Figure size 432x288 with 8 Axes>"
      ]
     },
     "metadata": {
      "image/png": {
       "height": 319,
       "width": 349
      },
      "needs_background": "light"
     },
     "output_type": "display_data"
    }
   ],
   "source": [
    "#Test the model against the test dataset.\n",
    "#Set batch size if not already set\n",
    "try:\n",
    "    if batch_size:\n",
    "        pass\n",
    "except NameError:\n",
    "    batch_size = 100\n",
    "\n",
    "save_model_path = './image_classification'\n",
    "n_samples = 4\n",
    "top_n_predictions = 3\n",
    "\n",
    "def test_model():\n",
    "    \n",
    "    test_features, test_labels = pickle.load(open('preprocess_test.p', mode='rb'))\n",
    "    loaded_graph = tf.Graph()\n",
    "\n",
    "    with tf.Session(graph=loaded_graph) as sess:\n",
    "        #Load model\n",
    "        loader = tf.train.import_meta_graph(save_model_path + '.meta')\n",
    "        loader.restore(sess, save_model_path)\n",
    "\n",
    "        #Get Tensors from loaded model\n",
    "        loaded_x = loaded_graph.get_tensor_by_name('x:0')\n",
    "        loaded_y = loaded_graph.get_tensor_by_name('y:0')\n",
    "        loaded_keep_prob = loaded_graph.get_tensor_by_name('keep_prob:0')\n",
    "        loaded_logits = loaded_graph.get_tensor_by_name('logits:0')\n",
    "        loaded_acc = loaded_graph.get_tensor_by_name('accuracy:0')\n",
    "        \n",
    "        #Get accuracy in batches for memory limitations\n",
    "        test_batch_acc_total = 0\n",
    "        test_batch_count = 0\n",
    "        \n",
    "        for train_feature_batch, train_label_batch in helper.batch_features_labels(test_features, test_labels, batch_size):\n",
    "            test_batch_acc_total += sess.run(\n",
    "                loaded_acc,\n",
    "                feed_dict={loaded_x: train_feature_batch, loaded_y: train_label_batch, loaded_keep_prob: 1.0})\n",
    "            test_batch_count += 1\n",
    "\n",
    "        print('Testing Accuracy: {}\\n'.format(test_batch_acc_total/test_batch_count))\n",
    "\n",
    "        #Print Random Samples\n",
    "        random_test_features, random_test_labels = tuple(zip(*random.sample(list(zip(test_features, test_labels)), n_samples)))\n",
    "        random_test_predictions = sess.run(\n",
    "            tf.nn.top_k(tf.nn.softmax(loaded_logits), top_n_predictions),\n",
    "            feed_dict={loaded_x: random_test_features, loaded_y: random_test_labels, loaded_keep_prob: 1.0})\n",
    "        helper.display_image_predictions(random_test_features, random_test_labels, random_test_predictions)\n",
    "\n",
    "test_model()\n"
   ]
  },
  {
   "cell_type": "code",
   "execution_count": null,
   "metadata": {},
   "outputs": [],
   "source": []
  }
 ],
 "metadata": {
  "kernelspec": {
   "display_name": "Python 3",
   "language": "python",
   "name": "python3"
  },
  "language_info": {
   "codemirror_mode": {
    "name": "ipython",
    "version": 3
   },
   "file_extension": ".py",
   "mimetype": "text/x-python",
   "name": "python",
   "nbconvert_exporter": "python",
   "pygments_lexer": "ipython3",
   "version": "3.7.2"
  }
 },
 "nbformat": 4,
 "nbformat_minor": 2
}
